{
 "cells": [
  {
   "cell_type": "code",
   "execution_count": 29,
   "id": "46ae324c",
   "metadata": {},
   "outputs": [
    {
     "name": "stderr",
     "output_type": "stream",
     "text": [
      "C:\\Users\\jason\\AppData\\Local\\Temp\\ipykernel_38924\\3668809234.py:13: LangChainDeprecationWarning: Default values for HuggingFaceEmbeddings.model_name were deprecated in LangChain 0.2.16 and will be removed in 0.4.0. Explicitly pass a model_name to the HuggingFaceEmbeddings constructor instead.\n",
      "  embedding_model = HuggingFaceEmbeddings()\n"
     ]
    }
   ],
   "source": [
    "from langchain.vectorstores import FAISS\n",
    "from langchain_community.embeddings import HuggingFaceEmbeddings\n",
    "\n",
    "# Define movie_chunks with some example data\n",
    "# Replace this with your actual list of Document objects\n",
    "from langchain.schema import Document\n",
    "\n",
    "tv_chunks = [\n",
    "Document(page_content=\"Alone is a survival show.\", metadata={\"title\": \"Alone\"})\n",
    "]\n",
    "\n",
    "# Define the embedding model\n",
    "embedding_model = HuggingFaceEmbeddings()\n",
    "\n",
    "# Create a FAISS vectorstore from your movie_chunks and embedding_model\n",
    "vectorstore = FAISS.from_documents(tv_chunks, embedding_model)\n"
   ]
  },
  {
   "cell_type": "code",
   "execution_count": 30,
   "id": "97f28b80",
   "metadata": {},
   "outputs": [],
   "source": [
    "from langchain.chains import ConversationalRetrievalChain\n",
    "user_input = \"I really like the TV show alone. Can you recommend other TV shows like that? I like survival shows but not game shows\"\n",
    "user_embedding = embedding_model.embed_query(user_input)\n"
   ]
  },
  {
   "cell_type": "code",
   "execution_count": 31,
   "id": "c72db12a",
   "metadata": {},
   "outputs": [],
   "source": [
    "docs = vectorstore.similarity_search_by_vector(user_embedding, k=5)\n"
   ]
  },
  {
   "cell_type": "code",
   "execution_count": 32,
   "id": "eea8001c",
   "metadata": {},
   "outputs": [
    {
     "name": "stdout",
     "output_type": "stream",
     "text": [
      "Based on your preference for survival shows like \"Alone,\" I recommend the following TV shows and movies:\n",
      "\n",
      "1. \"Man vs. Wild\" - This show follows survival expert Bear Grylls as he demonstrates various techniques for surviving in extreme environments. It provides a mix of educational content and thrilling survival challenges.\n",
      "\n",
      "2. \"Survivorman\" - This series features survival expert Les Stroud as he documents his experiences surviving alone in various remote locations. It offers a realistic portrayal of the challenges and skills needed to survive in the wilderness.\n",
      "\n",
      "3. \"Into the Wild\" (movie) - This film tells the true story of Christopher McCandless, a young man who gives up his possessions and embarks on a journey into the Alaskan wilderness. It explores themes of self-discovery, adventure, and survival in a harsh environment.\n",
      "\n",
      "These recommendations align with your interest in survival shows that focus on real-life challenges and skills, rather than competitive game shows. They offer engaging and informative content that will likely appeal to fans of \"Alone.\"\n"
     ]
    }
   ],
   "source": [
    "import os\n",
    "\n",
    "# Ensure openai_api_key is set, otherwise get from environment or prompt the user\n",
    "if not openai_api_key:\n",
    "\topenai_api_key = os.getenv(\"OPENAI_API_KEY\")\n",
    "\tif not openai_api_key:\n",
    "\t\tfrom getpass import getpass\n",
    "\t\topenai_api_key = getpass(\"Enter your OpenAI API key: \")\n",
    "\n",
    "# Re-initialize chat_model with the API key\n",
    "chat_model = ChatOpenAI(model=\"gpt-3.5-turbo\", temperature=0.7, openai_api_key=openai_api_key)\n",
    "\n",
    "# Re-initialize the chain with the new chat_model if needed\n",
    "chain = LLMChain(llm=chat_model, prompt=prompt)\n",
    "\n",
    "# Run the recommendation\n",
    "recommendation = chain.run(input=user_input, results=docs)\n",
    "print(recommendation)\n"
   ]
  },
  {
   "cell_type": "code",
   "execution_count": 33,
   "id": "5b37991d",
   "metadata": {},
   "outputs": [
    {
     "name": "stdout",
     "output_type": "stream",
     "text": [
      "* Running on local URL:  http://127.0.0.1:7866\n",
      "* To create a public link, set `share=True` in `launch()`.\n"
     ]
    },
    {
     "data": {
      "text/html": [
       "<div><iframe src=\"http://127.0.0.1:7866/\" width=\"100%\" height=\"500\" allow=\"autoplay; camera; microphone; clipboard-read; clipboard-write;\" frameborder=\"0\" allowfullscreen></iframe></div>"
      ],
      "text/plain": [
       "<IPython.core.display.HTML object>"
      ]
     },
     "metadata": {},
     "output_type": "display_data"
    },
    {
     "data": {
      "text/plain": []
     },
     "execution_count": 33,
     "metadata": {},
     "output_type": "execute_result"
    }
   ],
   "source": [
    "import gradio as gr\n",
    "\n",
    "def recommend_tv_shows(user_input):\n",
    "    # Embed the user input\n",
    "    user_embedding = embedding_model.embed_query(user_input)\n",
    "    # Search for similar documents\n",
    "    docs = vectorstore.similarity_search_by_vector(user_embedding, k=5)\n",
    "    # Run the LLM chain for recommendations\n",
    "    recommendation = chain.run(input=user_input, results=docs)\n",
    "    return recommendation\n",
    "\n",
    "iface = gr.Interface(\n",
    "    fn=recommend_tv_shows,\n",
    "    inputs=gr.Textbox(lines=3, label=\"Describe your favorite TV shows or preferences\"),\n",
    "    outputs=gr.Textbox(label=\"Recommendations\"),\n",
    "    title=\"TV & Movie Recommendation Chatbot\",\n",
    "    description=\"Get personalized TV show and movie recommendations based on your preferences.\"\n",
    ")\n",
    "\n",
    "iface.launch()"
   ]
  },
  {
   "cell_type": "code",
   "execution_count": 20,
   "id": "59866a4d",
   "metadata": {},
   "outputs": [],
   "source": [
    "# Update the prompt template to avoid referencing specific titles like \"Inception\" or \"Alone\"\n",
    "prompt = PromptTemplate(\n",
    "    input_variables=[\"input\", \"results\"],\n",
    "    template=\"Based only on the user's taste profile: {input}, recommend TV shows or movies from {results} and justify each. Do not reference any specific titles from the user's input.\"\n",
    ")\n",
    "\n",
    "# Re-initialize the chain with the updated prompt\n",
    "chain = LLMChain(llm=chat_model, prompt=prompt)"
   ]
  },
  {
   "cell_type": "code",
   "execution_count": null,
   "id": "853fa158",
   "metadata": {},
   "outputs": [],
   "source": []
  }
 ],
 "metadata": {
  "kernelspec": {
   "display_name": "llms",
   "language": "python",
   "name": "python3"
  },
  "language_info": {
   "codemirror_mode": {
    "name": "ipython",
    "version": 3
   },
   "file_extension": ".py",
   "mimetype": "text/x-python",
   "name": "python",
   "nbconvert_exporter": "python",
   "pygments_lexer": "ipython3",
   "version": "3.11.13"
  }
 },
 "nbformat": 4,
 "nbformat_minor": 5
}
