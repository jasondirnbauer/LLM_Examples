{
 "cells": [
  {
   "cell_type": "code",
   "execution_count": 1,
   "id": "964b9b35",
   "metadata": {},
   "outputs": [],
   "source": [
    "# imports\n",
    "\n",
    "import os\n",
    "import requests\n",
    "from dotenv import load_dotenv\n",
    "from bs4 import BeautifulSoup\n",
    "from IPython.display import Markdown, display\n",
    "from openai import OpenAI"
   ]
  },
  {
   "cell_type": "code",
   "execution_count": 2,
   "id": "decf5fbb",
   "metadata": {},
   "outputs": [
    {
     "name": "stdout",
     "output_type": "stream",
     "text": [
      "API key found and looks good so far!\n"
     ]
    }
   ],
   "source": [
    "# check API keys\n",
    "# Load environment variables in a file called .env\n",
    "\n",
    "load_dotenv(override=True)\n",
    "api_key = os.getenv('OPENAI_API_KEY')\n",
    "\n",
    "# Check the key\n",
    "\n",
    "if not api_key:\n",
    "    print(\"No API key was found - please head over to the troubleshooting notebook in this folder to identify & fix!\")\n",
    "elif not api_key.startswith(\"sk-proj-\"):\n",
    "    print(\"An API key was found, but it doesn't start sk-proj-; please check you're using the right key - see troubleshooting notebook\")\n",
    "elif api_key.strip() != api_key:\n",
    "    print(\"An API key was found, but it looks like it might have space or tab characters at the start or end - please remove them - see troubleshooting notebook\")\n",
    "else:\n",
    "    print(\"API key found and looks good so far!\")"
   ]
  },
  {
   "cell_type": "code",
   "execution_count": 3,
   "id": "0b2af651",
   "metadata": {},
   "outputs": [],
   "source": [
    "# Initialize OpenAI client\n",
    "openai = OpenAI()"
   ]
  },
  {
   "cell_type": "code",
   "execution_count": 4,
   "id": "c761af40",
   "metadata": {},
   "outputs": [],
   "source": [
    "# A class to represent a Webpage\n",
    "# If you're not familiar with Classes, check out the \"Intermediate Python\" notebook\n",
    "\n",
    "# Some websites need you to use proper headers when fetching them:\n",
    "headers = {\n",
    " \"User-Agent\": \"Mozilla/5.0 (Windows NT 10.0; Win64; x64) AppleWebKit/537.36 (KHTML, like Gecko) Chrome/117.0.0.0 Safari/537.36\"\n",
    "}\n",
    "\n",
    "class Website:\n",
    "\n",
    "    def __init__(self, url):\n",
    "        \"\"\"\n",
    "        Create this Website object from the given url using the BeautifulSoup library\n",
    "        \"\"\"\n",
    "        self.url = url\n",
    "        response = requests.get(url, headers=headers)\n",
    "        soup = BeautifulSoup(response.content, 'html.parser')\n",
    "        self.title = soup.title.string if soup.title else \"No title found\"\n",
    "        for irrelevant in soup.body([\"script\", \"style\", \"img\", \"input\"]):\n",
    "            irrelevant.decompose()\n",
    "        self.text = soup.body.get_text(separator=\"\\n\", strip=True)"
   ]
  },
  {
   "cell_type": "code",
   "execution_count": 5,
   "id": "3f5a927b",
   "metadata": {},
   "outputs": [],
   "source": [
    "# Define our system prompt - you can experiment with this later, changing the last sentence to 'Respond in markdown in Spanish.\"\n",
    "\n",
    "system_prompt = \"You are a snarky assistant that analyzes the contents of a website \\\n",
    "and provides a short summary, ignoring text that might be navigation related. \\\n",
    "Respond in markdown.\""
   ]
  },
  {
   "cell_type": "code",
   "execution_count": 6,
   "id": "36ca12b0",
   "metadata": {},
   "outputs": [],
   "source": [
    "# A function that writes a User Prompt that asks for summaries of websites:\n",
    "\n",
    "def user_prompt_for(website):\n",
    "    user_prompt = f\"You are looking at a website titled {website.title}\"\n",
    "    user_prompt += \"\\nThe contents of this website is as follows; \\\n",
    "please provide a short summary of this website in markdown. \\\n",
    "If it includes news or announcements, then summarize these too.\\n\\n\"\n",
    "    user_prompt += website.text\n",
    "    return user_prompt"
   ]
  },
  {
   "cell_type": "code",
   "execution_count": 7,
   "id": "61b97cc7",
   "metadata": {},
   "outputs": [],
   "source": [
    "# See how this function creates exactly the format above\n",
    "\n",
    "def messages_for(website):\n",
    "     return [\n",
    "        {\"role\": \"system\", \"content\": system_prompt},\n",
    "         {\"role\": \"user\", \"content\": user_prompt_for(website)}\n",
    "     ]"
   ]
  },
  {
   "cell_type": "code",
   "execution_count": 8,
   "id": "4fb3f0ed",
   "metadata": {},
   "outputs": [],
   "source": [
    "# And now: call the OpenAI API. You will get very familiar with this!\n",
    "\n",
    "def summarize(url):\n",
    "    website = Website(url)\n",
    "    response = openai.chat.completions.create(\n",
    "        model = \"gpt-4o-mini\",\n",
    "        messages = messages_for(website)\n",
    "    )\n",
    "    return response.choices[0].message.content"
   ]
  },
  {
   "cell_type": "code",
   "execution_count": 9,
   "id": "9718fd98",
   "metadata": {},
   "outputs": [],
   "source": [
    "def display_summary(url):\n",
    "    summary = summarize(url)\n",
    "    display(Markdown(summary))"
   ]
  },
  {
   "cell_type": "code",
   "execution_count": 13,
   "id": "06a7ba39",
   "metadata": {},
   "outputs": [
    {
     "data": {
      "text/markdown": [
       "# Summary of Journal of Artificial Intelligence Research\n",
       "\n",
       "The **Journal of Artificial Intelligence Research (JAIR)** is an open-access platform founded in 1993, aimed at the rapid dissemination of significant research in all areas of artificial intelligence (AI). The journal covers diverse topics including agents, automated reasoning, machine learning, natural language processing, robotics, and uncertainty in AI.\n",
       "\n",
       "## Current Issue Highlights\n",
       "- **Vol. 83 (2025)** features various articles such as:\n",
       "  - **Geometrically Inspired Kernel Machines for Collaborative Learning**\n",
       "  - **The Search for Stability: Learning Dynamics of Strategic Publishers**\n",
       "  - **LabelCoRank: Long Tail Multi-Label Classification**\n",
       "  - **Towards Generalist Robot Learning from Internet Video: A Survey**\n",
       "  - **Improved Regret Bounds for Bandits with Expert Advice**\n",
       "\n",
       "## News and Announcements\n",
       "- **AAAI Contributes to JAIR Sustainability Campaign** - A collaborative initiative to ensure the journal's sustainability.\n",
       "- **Reproducibility Initiative** - A program encouraging the reproducibility of AI research.\n",
       "- **2024 IJCAI-JAIR Prize Awarded** - Recognizes outstanding contributions.\n",
       "- **Special Track on Multi-Agent Path Finding** - A focused exploration of multi-agent systems.\n",
       "- **JAIR Available in ACM Library** - Increasing accessibility of JAIR publications.\n",
       "\n",
       "For submissions, JAIR invites papers that uphold high standards of originality and significance in AI research. The journal continues to promote the dissemination of scientific results while being a leading publication in the field."
      ],
      "text/plain": [
       "<IPython.core.display.Markdown object>"
      ]
     },
     "metadata": {},
     "output_type": "display_data"
    }
   ],
   "source": [
    "display_summary(\"https://www.jair.org\")"
   ]
  },
  {
   "cell_type": "code",
   "execution_count": 14,
   "id": "b9b82249",
   "metadata": {},
   "outputs": [
    {
     "data": {
      "text/markdown": [
       "# Summary of Artificial Intelligence Website\n",
       "\n",
       "The **Artificial Intelligence** website serves as a repository for various research articles and papers focused on the field of artificial intelligence. It primarily features **recent submissions** from authors, providing a total of **814 entries** that cover a wide range of topics, including safe AI systems, performance of concept probing, reinforcement learning applications, and logical characterizations of neural networks, among many others.\n",
       "\n",
       "## Recent Submissions Highlights\n",
       "1. **SafeWork-R1: Coevolving Safety and Intelligence under the AI-45° Law**:\n",
       "   - Authors: Shanghai AI Lab \n",
       "   - Focus: Safety measures in AI development.\n",
       "   - [Link to Paper](arXiv:2507.18576)\n",
       "\n",
       "2. **On the Performance of Concept Probing: The Influence of the Data (Extended Version)**:\n",
       "   - Authors: Manuel de Sousa Ribeiro, Afonso Leote, João Leite\n",
       "   - Focus: Analysis of performance metrics based on data.\n",
       "   - [Link to Paper](arXiv:2507.18550)\n",
       "\n",
       "3. **Optimising Call Centre Operations using Reinforcement Learning: Value Iteration versus Proximal Policy Optimisation**:\n",
       "   - Authors: Kwong Ho Li, Wathsala Karunarathne\n",
       "   - Focus: Comparison of reinforcement learning techniques for operational efficiency.\n",
       "   - [Link to Paper](arXiv:2507.18398)\n",
       "\n",
       "4. **Foundations for Risk Assessment of AI in Protecting Fundamental Rights**:\n",
       "   - Authors: Antonino Rotolo, Beatrice Ferrigno, etc.\n",
       "   - Focus: Exploring the intersection of AI and fundamental human rights.\n",
       "   - [Link to Paper](arXiv:2507.18290)\n",
       "\n",
       "5. **SMARTAPS: Tool-augmented LLMs for Operations Management**:\n",
       "   - Authors: Timothy Tin Long Yu et al.\n",
       "   - Focus: Innovations in operations management using LLMs (Large Language Models).\n",
       "   - [Link to Paper](arXiv:2507.17927)\n",
       "\n",
       "### Noteworthy Updates\n",
       "- Several papers have been accepted for upcoming conferences, including **ACM MM 2025** and **IEEE International Symposium on Personal, Indoor and Mobile Radio Communications 2025**.\n",
       "\n",
       "Overall, the website acts as a crucial hub for researchers interested in the latest advancements and discussions in AI, providing both foundational theories and practical applications."
      ],
      "text/plain": [
       "<IPython.core.display.Markdown object>"
      ]
     },
     "metadata": {},
     "output_type": "display_data"
    }
   ],
   "source": [
    "display_summary(\"https://arxiv.org/list/cs.AI/recent\")"
   ]
  },
  {
   "cell_type": "code",
   "execution_count": null,
   "id": "192cbc34",
   "metadata": {},
   "outputs": [],
   "source": []
  }
 ],
 "metadata": {
  "kernelspec": {
   "display_name": "llms",
   "language": "python",
   "name": "python3"
  },
  "language_info": {
   "codemirror_mode": {
    "name": "ipython",
    "version": 3
   },
   "file_extension": ".py",
   "mimetype": "text/x-python",
   "name": "python",
   "nbconvert_exporter": "python",
   "pygments_lexer": "ipython3",
   "version": "3.11.13"
  }
 },
 "nbformat": 4,
 "nbformat_minor": 5
}
